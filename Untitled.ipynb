{
 "cells": [
  {
   "cell_type": "code",
   "execution_count": 1,
   "id": "2c88e75d",
   "metadata": {},
   "outputs": [
    {
     "name": "stdout",
     "output_type": "stream",
     "text": [
      "Collecting youtube-transcript-api\n",
      "  Obtaining dependency information for youtube-transcript-api from https://files.pythonhosted.org/packages/52/42/5f57d37d56bdb09722f226ed81cc1bec63942da745aa27266b16b0e16a5d/youtube_transcript_api-0.6.2-py3-none-any.whl.metadata\n",
      "  Downloading youtube_transcript_api-0.6.2-py3-none-any.whl.metadata (15 kB)\n",
      "Requirement already satisfied: requests in /Users/apple/anaconda3/lib/python3.11/site-packages (from youtube-transcript-api) (2.31.0)\n",
      "Requirement already satisfied: charset-normalizer<4,>=2 in /Users/apple/anaconda3/lib/python3.11/site-packages (from requests->youtube-transcript-api) (2.0.4)\n",
      "Requirement already satisfied: idna<4,>=2.5 in /Users/apple/anaconda3/lib/python3.11/site-packages (from requests->youtube-transcript-api) (3.4)\n",
      "Requirement already satisfied: urllib3<3,>=1.21.1 in /Users/apple/anaconda3/lib/python3.11/site-packages (from requests->youtube-transcript-api) (1.26.16)\n",
      "Requirement already satisfied: certifi>=2017.4.17 in /Users/apple/anaconda3/lib/python3.11/site-packages (from requests->youtube-transcript-api) (2023.11.17)\n",
      "Downloading youtube_transcript_api-0.6.2-py3-none-any.whl (24 kB)\n",
      "Installing collected packages: youtube-transcript-api\n",
      "Successfully installed youtube-transcript-api-0.6.2\n",
      "Note: you may need to restart the kernel to use updated packages.\n"
     ]
    }
   ],
   "source": [
    "pip install youtube-transcript-api"
   ]
  },
  {
   "cell_type": "code",
   "execution_count": 1,
   "id": "aba17aef",
   "metadata": {},
   "outputs": [],
   "source": [
    "from youtube_transcript_api import YouTubeTranscriptApi\n",
    "from youtube_transcript_api.formatters import SRTFormatter"
   ]
  },
  {
   "cell_type": "code",
   "execution_count": 10,
   "id": "078983f0",
   "metadata": {},
   "outputs": [
    {
     "name": "stdout",
     "output_type": "stream",
     "text": [
      "Transcript for video 4Gr1Rp4nReU has been saved.\n"
     ]
    }
   ],
   "source": [
    "def download_transcript(video_id):\n",
    "    try:\n",
    "        # Fetching the transcript\n",
    "        transcript = YouTubeTranscriptApi.get_transcript(video_id, languages=['hi'])\n",
    "        \n",
    "        # Formatting the transcript as SRT\n",
    "        formatter = SRTFormatter()\n",
    "        srt_transcript = formatter.format_transcript(transcript)\n",
    "\n",
    "        # Saving the transcript as an SRT file\n",
    "        with open(f\"{video_id}.srt\", \"w\") as text_file:\n",
    "            text_file.write(srt_transcript)\n",
    "            \n",
    "        print(f\"Transcript for video {video_id} has been saved.\")\n",
    "    except Exception as e:\n",
    "        print(f\"An error occurred: {e}\")\n",
    "\n",
    "# Replace 'YOUR_VIDEO_ID' with the actual ID of the YouTube video\n",
    "video_id = '4Gr1Rp4nReU'\n",
    "download_transcript(video_id)"
   ]
  },
  {
   "cell_type": "code",
   "execution_count": null,
   "id": "040ed551",
   "metadata": {},
   "outputs": [],
   "source": []
  }
 ],
 "metadata": {
  "kernelspec": {
   "display_name": "Python 3 (ipykernel)",
   "language": "python",
   "name": "python3"
  },
  "language_info": {
   "codemirror_mode": {
    "name": "ipython",
    "version": 3
   },
   "file_extension": ".py",
   "mimetype": "text/x-python",
   "name": "python",
   "nbconvert_exporter": "python",
   "pygments_lexer": "ipython3",
   "version": "3.11.4"
  }
 },
 "nbformat": 4,
 "nbformat_minor": 5
}
