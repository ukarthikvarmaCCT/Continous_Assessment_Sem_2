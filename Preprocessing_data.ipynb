{
 "cells": [
  {
   "cell_type": "code",
   "execution_count": 2,
   "id": "080c333e",
   "metadata": {},
   "outputs": [
    {
     "name": "stdout",
     "output_type": "stream",
     "text": [
      "Requirement already satisfied: tqdm in /Users/apple/anaconda3/lib/python3.11/site-packages (4.65.0)\n",
      "Requirement already satisfied: transformers in /Users/apple/anaconda3/lib/python3.11/site-packages (4.39.1)\n",
      "Requirement already satisfied: filelock in /Users/apple/anaconda3/lib/python3.11/site-packages (from transformers) (3.9.0)\n",
      "Requirement already satisfied: huggingface-hub<1.0,>=0.19.3 in /Users/apple/anaconda3/lib/python3.11/site-packages (from transformers) (0.21.4)\n",
      "Requirement already satisfied: numpy>=1.17 in /Users/apple/anaconda3/lib/python3.11/site-packages (from transformers) (1.24.3)\n",
      "Requirement already satisfied: packaging>=20.0 in /Users/apple/anaconda3/lib/python3.11/site-packages (from transformers) (23.0)\n",
      "Requirement already satisfied: pyyaml>=5.1 in /Users/apple/anaconda3/lib/python3.11/site-packages (from transformers) (6.0)\n",
      "Requirement already satisfied: regex!=2019.12.17 in /Users/apple/anaconda3/lib/python3.11/site-packages (from transformers) (2022.7.9)\n",
      "Requirement already satisfied: requests in /Users/apple/anaconda3/lib/python3.11/site-packages (from transformers) (2.31.0)\n",
      "Requirement already satisfied: tokenizers<0.19,>=0.14 in /Users/apple/anaconda3/lib/python3.11/site-packages (from transformers) (0.15.2)\n",
      "Requirement already satisfied: safetensors>=0.4.1 in /Users/apple/anaconda3/lib/python3.11/site-packages (from transformers) (0.4.2)\n",
      "Requirement already satisfied: tqdm>=4.27 in /Users/apple/anaconda3/lib/python3.11/site-packages (from transformers) (4.65.0)\n",
      "Requirement already satisfied: fsspec>=2023.5.0 in /Users/apple/anaconda3/lib/python3.11/site-packages (from huggingface-hub<1.0,>=0.19.3->transformers) (2024.3.1)\n",
      "Requirement already satisfied: typing-extensions>=3.7.4.3 in /Users/apple/anaconda3/lib/python3.11/site-packages (from huggingface-hub<1.0,>=0.19.3->transformers) (4.10.0)\n",
      "Requirement already satisfied: charset-normalizer<4,>=2 in /Users/apple/anaconda3/lib/python3.11/site-packages (from requests->transformers) (2.0.4)\n",
      "Requirement already satisfied: idna<4,>=2.5 in /Users/apple/anaconda3/lib/python3.11/site-packages (from requests->transformers) (3.4)\n",
      "Requirement already satisfied: urllib3<3,>=1.21.1 in /Users/apple/anaconda3/lib/python3.11/site-packages (from requests->transformers) (1.26.16)\n",
      "Requirement already satisfied: certifi>=2017.4.17 in /Users/apple/anaconda3/lib/python3.11/site-packages (from requests->transformers) (2023.11.17)\n"
     ]
    }
   ],
   "source": [
    "!pip install tqdm\n",
    "!pip install --upgrade transformers"
   ]
  },
  {
   "cell_type": "code",
   "execution_count": 3,
   "id": "1aadee4a",
   "metadata": {},
   "outputs": [
    {
     "name": "stderr",
     "output_type": "stream",
     "text": [
      "2024-03-28 13:21:30.769016: I tensorflow/core/platform/cpu_feature_guard.cc:182] This TensorFlow binary is optimized to use available CPU instructions in performance-critical operations.\n",
      "To enable the following instructions: AVX2 FMA, in other operations, rebuild TensorFlow with the appropriate compiler flags.\n"
     ]
    }
   ],
   "source": [
    "import pandas as pd\n",
    "import numpy as np\n",
    "import random\n",
    "import os\n",
    "import re\n",
    "import concurrent.futures\n",
    "from transformers import pipeline, AutoTokenizer, AutoModelForSeq2SeqLM\n",
    "from concurrent.futures import ThreadPoolExecutor, as_completed\n",
    "from nltk.tokenize import word_tokenize\n",
    "from nltk.corpus import stopwords, wordnet\n",
    "from nltk.stem import WordNetLemmatizer\n",
    "from tqdm.auto import tqdm"
   ]
  },
  {
   "cell_type": "markdown",
   "id": "c6e728f9",
   "metadata": {},
   "source": [
    "## Preprocessing Text\n",
    "- Preprocessing the SRT file and combining them into one csv file based on thier video id and their filename"
   ]
  },
  {
   "cell_type": "code",
   "execution_count": 20,
   "id": "313bc9a6",
   "metadata": {
    "scrolled": true
   },
   "outputs": [
    {
     "name": "stdout",
     "output_type": "stream",
     "text": [
      "Process completed. CSV files have been combined based on video IDs and duplicates removed.\n"
     ]
    }
   ],
   "source": [
    "def clean_text(text):\n",
    "    # Removing timestamps, formatting codes, and unwanted characters\n",
    "    text = re.sub(r'\\d{2}:\\d{2}:\\d{2},\\d{3} --> \\d{2}:\\d{2}:\\d{2},\\d{3}', '', text)  # Remove timestamps\n",
    "    text = re.sub(r'<.*?>', '', text)  # Remove HTML-like tags if present\n",
    "    text = re.sub(r'[,.\\']', '', text)  # Removing commas, full stops, and apostrophes\n",
    "    text = re.sub(r'\\[Music\\]|\\[Applause\\]|\\[Laughter\\]', '', text)  # Remove common noise words\n",
    "    return re.sub(r'[^A-Za-z0-9 .,?!]', '', text).strip()\n",
    "\n",
    "def process_subtitle_file(srt_file_path):\n",
    "    subtitles = []\n",
    "    with open(srt_file_path, 'r', encoding='utf-8') as file:\n",
    "        content = file.read().split('\\n\\n')  # Splitting by subtitle blocks instead of lines\n",
    "    for block in content:\n",
    "        lines = block.split('\\n')\n",
    "        if len(lines) > 2:  # Ensuring there's a timestamp and at least one line of dialogue\n",
    "            text = ' '.join(lines[2:])  # Joining dialogue lines (skipping the sequence number and timestamp)\n",
    "            cleaned_text = clean_text(text)\n",
    "            if cleaned_text and len(cleaned_text.split()) > 1:  # Checking for meaningful content\n",
    "                subtitles.append([cleaned_text])\n",
    "    return subtitles\n",
    "\n",
    "def save_subtitles_to_csv(video_id, subtitles, subtitles_csv_dir):\n",
    "    if subtitles:\n",
    "        df_subtitles = pd.DataFrame(subtitles, columns=['English'])  # Changed column name to 'English'\n",
    "        csv_file_path = os.path.join(subtitles_csv_dir, f\"{video_id}.csv\")\n",
    "        df_subtitles.to_csv(csv_file_path, index=False)\n",
    "\n",
    "def process_file(filename, subtitles_dir, subtitles_csv_dir):\n",
    "    if filename.endswith(\".srt\"):\n",
    "        video_id = filename[:-4]\n",
    "        srt_file_path = os.path.join(subtitles_dir, filename)\n",
    "        subtitles = process_subtitle_file(srt_file_path)\n",
    "        save_subtitles_to_csv(video_id, subtitles, subtitles_csv_dir)\n",
    "\n",
    "def read_video_ids(file_path):\n",
    "    with open(file_path, 'r') as file:\n",
    "        return file.read().splitlines()\n",
    "\n",
    "def combine_csv_files(video_ids, output_file, subtitles_csv_dir):\n",
    "    csv_frames = []\n",
    "    for video_id in video_ids:\n",
    "        csv_path = os.path.join(subtitles_csv_dir, f\"{video_id}.csv\")\n",
    "        if os.path.exists(csv_path):\n",
    "            df = pd.read_csv(csv_path)\n",
    "            csv_frames.append(df)\n",
    "    combined_df = pd.concat(csv_frames)\n",
    "    combined_df.drop_duplicates(inplace=True)\n",
    "    combined_df.to_csv(output_file, index=False)\n",
    "\n",
    "def parallel_process_files(files, subtitles_dir, subtitles_csv_dir):\n",
    "    with concurrent.futures.ThreadPoolExecutor() as executor:\n",
    "        futures = [executor.submit(process_file, filename, subtitles_dir, subtitles_csv_dir) for filename in files]\n",
    "        concurrent.futures.wait(futures)\n",
    "\n",
    "# Example usage setup remains the same\n",
    "directories = {\n",
    "    \"video_ids_dir\": 'video_ids',\n",
    "    \"subtitles_dir\": 'subtitles',\n",
    "    \"subtitles_csv_dir\": 'Subtitles_csv',\n",
    "    \"output_dir\": 'Subtitles_csv_combined'\n",
    "}\n",
    "\n",
    "for dir_path in directories.values():\n",
    "    os.makedirs(dir_path, exist_ok=True)\n",
    "\n",
    "files = os.listdir(directories['subtitles_dir'])\n",
    "parallel_process_files(files, directories['subtitles_dir'], directories['subtitles_csv_dir'])\n",
    "\n",
    "for filename in os.listdir(directories['video_ids_dir']):\n",
    "    if filename.endswith(\".txt\"):\n",
    "        base_name = filename[:-4]\n",
    "        output_filename = f\"{base_name}_combined_data.csv\"\n",
    "        output_path = os.path.join(directories['output_dir'], output_filename)\n",
    "        video_ids_path = os.path.join(directories['video_ids_dir'], filename)\n",
    "        video_ids = read_video_ids(video_ids_path)\n",
    "        combine_csv_files(video_ids, output_path, directories['subtitles_csv_dir'])\n",
    "\n",
    "print(\"Process completed. CSV files have been combined based on video IDs and duplicates removed.\")"
   ]
  },
  {
   "cell_type": "markdown",
   "id": "993a3631",
   "metadata": {},
   "source": [
    "- Randomly selecting 2000 english sentences from the csv file and combining into single csv file"
   ]
  },
  {
   "cell_type": "code",
   "execution_count": 21,
   "id": "40da7650",
   "metadata": {},
   "outputs": [
    {
     "name": "stdout",
     "output_type": "stream",
     "text": [
      "Combined file saved to combined_for_translation.csv\n"
     ]
    }
   ],
   "source": [
    "# Function to count words in a sentence\n",
    "def count_words(sentence):\n",
    "    return len(sentence.split())\n",
    "\n",
    "# Base directory containing your CSV files\n",
    "directory_path = 'Subtitles_csv_combined'\n",
    "\n",
    "# Placeholder for combined data\n",
    "combined_data = pd.DataFrame(columns=['English'])\n",
    "\n",
    "# Loop through all files in the directory\n",
    "for file_name in os.listdir(directory_path):\n",
    "    if file_name.endswith('.csv'):\n",
    "        file_path = os.path.join(directory_path, file_name)\n",
    "        \n",
    "        # Read the file\n",
    "        df = pd.read_csv(file_path)\n",
    "        \n",
    "        # Filter sentences with 5 or more words\n",
    "        filtered_df = df[df['English'].apply(count_words) >= 5]\n",
    "        \n",
    "        # Combine\n",
    "        combined_data = pd.concat([combined_data, filtered_df])\n",
    "\n",
    "# If the combined data has more than 2000 sentences, randomly select 2000\n",
    "if len(combined_data) > 2000:\n",
    "    combined_data = combined_data.sample(n=2000, random_state=1).reset_index(drop=True)\n",
    "else:\n",
    "    combined_data = combined_data.sample(frac=1, random_state=1).reset_index(drop=True)  # Shuffle if less than 2000\n",
    "\n",
    "# Save the combined data to a new CSV file\n",
    "combined_file_path = 'combined_for_translation.csv'\n",
    "combined_data.to_csv(combined_file_path, index=False)\n",
    "\n",
    "print(f'Combined file saved to {combined_file_path}')"
   ]
  },
  {
   "cell_type": "code",
   "execution_count": 22,
   "id": "c2388382",
   "metadata": {
    "scrolled": true
   },
   "outputs": [
    {
     "data": {
      "text/html": [
       "<div>\n",
       "<style scoped>\n",
       "    .dataframe tbody tr th:only-of-type {\n",
       "        vertical-align: middle;\n",
       "    }\n",
       "\n",
       "    .dataframe tbody tr th {\n",
       "        vertical-align: top;\n",
       "    }\n",
       "\n",
       "    .dataframe thead th {\n",
       "        text-align: right;\n",
       "    }\n",
       "</style>\n",
       "<table border=\"1\" class=\"dataframe\">\n",
       "  <thead>\n",
       "    <tr style=\"text-align: right;\">\n",
       "      <th></th>\n",
       "      <th>English</th>\n",
       "    </tr>\n",
       "  </thead>\n",
       "  <tbody>\n",
       "    <tr>\n",
       "      <th>0</th>\n",
       "      <td>You know what else is intense?  What?</td>\n",
       "    </tr>\n",
       "    <tr>\n",
       "      <th>1</th>\n",
       "      <td>but all our political parties do</td>\n",
       "    </tr>\n",
       "    <tr>\n",
       "      <th>2</th>\n",
       "      <td>Apka favourite pokemon kaunsa hai?</td>\n",
       "    </tr>\n",
       "    <tr>\n",
       "      <th>3</th>\n",
       "      <td>were going on a 100000 vacation</td>\n",
       "    </tr>\n",
       "    <tr>\n",
       "      <th>4</th>\n",
       "      <td>and secondly it will mean that</td>\n",
       "    </tr>\n",
       "  </tbody>\n",
       "</table>\n",
       "</div>"
      ],
      "text/plain": [
       "                                 English\n",
       "0  You know what else is intense?  What?\n",
       "1       but all our political parties do\n",
       "2     Apka favourite pokemon kaunsa hai?\n",
       "3        were going on a 100000 vacation\n",
       "4         and secondly it will mean that"
      ]
     },
     "execution_count": 22,
     "metadata": {},
     "output_type": "execute_result"
    }
   ],
   "source": [
    "df = pd.read_csv(\"combined_for_translation.csv\")\n",
    "df.head()"
   ]
  },
  {
   "cell_type": "markdown",
   "id": "43147228",
   "metadata": {},
   "source": [
    "- Translating English Sentences into hindi sentences and saving them to the same file"
   ]
  },
  {
   "cell_type": "code",
   "execution_count": 23,
   "id": "83ce7d01",
   "metadata": {},
   "outputs": [
    {
     "name": "stdout",
     "output_type": "stream",
     "text": [
      "Translation completed and saved back to combined_for_translation.csv\n"
     ]
    }
   ],
   "source": [
    "# Initialize the translation pipeline for English to Hindi\n",
    "translator = pipeline('translation', model='Helsinki-NLP/opus-mt-en-hi')\n",
    "\n",
    "# Function to translate text\n",
    "def translate_text(text):\n",
    "    try:\n",
    "        translation = translator(text, max_length=400)[0]['translation_text']\n",
    "    except Exception as e:\n",
    "        print(f\"Error translating text: {e}\")\n",
    "        translation = \"\"\n",
    "    return translation\n",
    "\n",
    "# Parallel translation function\n",
    "def parallel_translate(df, num_workers=5):\n",
    "    texts = df['English'].tolist()  # Change column name to 'English' as it's the source language now\n",
    "    with ThreadPoolExecutor(max_workers=num_workers) as executor:\n",
    "        future_to_text = {executor.submit(translate_text, text): text for text in texts}\n",
    "        for future in as_completed(future_to_text):\n",
    "            text = future_to_text[future]\n",
    "            try:\n",
    "                result = future.result()\n",
    "            except Exception as exc:\n",
    "                print(f'{text} generated an exception: {exc}')\n",
    "            else:\n",
    "                df.loc[df['English'] == text, 'Hindi'] = result  # Update 'Hindi' column with translated text\n",
    "    return df\n",
    "\n",
    "# Path to your combined CSV file\n",
    "file_path = 'combined_for_translation.csv'\n",
    "\n",
    "# Read the combined CSV file\n",
    "df = pd.read_csv(file_path)\n",
    "\n",
    "# Ensure 'Hindi' column exists for the translated text\n",
    "if 'Hindi' not in df.columns:\n",
    "    df['Hindi'] = ''\n",
    "\n",
    "# Translate in parallel and update the DataFrame\n",
    "df_updated = parallel_translate(df)\n",
    "\n",
    "# Save the updated DataFrame back to the same file\n",
    "df_updated.to_csv(file_path, index=False)\n",
    "print(f'Translation completed and saved back to {file_path}')"
   ]
  },
  {
   "cell_type": "code",
   "execution_count": null,
   "id": "be366640",
   "metadata": {},
   "outputs": [],
   "source": [
    "import random\n",
    "\n",
    "def create_hinglish(hindi, english):\n",
    "    english_words = english.split()\n",
    "    hindi_words = hindi.split()\n",
    "    # Decide the number of Hindi words to insert (up to 3 words or the length of the Hindi sentence)\n",
    "    num_inserts = min(3, len(hindi_words))\n",
    "    for _ in range(num_inserts):\n",
    "        if english_words:  # Ensure there are English words left to insert into\n",
    "            insert_pos = random.randint(0, len(english_words))\n",
    "            hindi_word_to_insert = random.choice(hindi_words)\n",
    "            english_words.insert(insert_pos, hindi_word_to_insert)\n",
    "            # Optional: remove the Hindi word from future consideration (if you want each Hindi word used only once)\n",
    "            hindi_words.remove(hindi_word_to_insert)\n",
    "    return ' '.join(english_words)\n",
    "\n",
    "# Apply the function to create a Hinglish column\n",
    "df_subtitles['Hinglish'] = df_subtitles.apply(lambda row: create_hinglish(row['Hindi'], row['English']), axis=1)\n",
    "\n",
    "# Displaying the DataFrame with the new Hinglish sentences\n",
    "df_subtitles[['Hindi', 'English', 'Hinglish']].head()"
   ]
  },
  {
   "cell_type": "code",
   "execution_count": null,
   "id": "d6ec9235",
   "metadata": {
    "scrolled": true
   },
   "outputs": [],
   "source": [
    "import nltk\n",
    "from nltk.corpus import stopwords\n",
    "nltk.download('stopwords')\n",
    "\n",
    "# Load English stop words\n",
    "stop_words = set(stopwords.words('english'))\n",
    "\n",
    "def create_hinglish_based_on_stopwords(english, hindi):\n",
    "    words = english.split()\n",
    "    stop_word_indices = [index for index, word in enumerate(words) if word.lower() in stop_words]\n",
    "\n",
    "    if not stop_word_indices:\n",
    "        # No stop words found, return the original sentence (you can decide how to handle this case)\n",
    "        return english\n",
    "\n",
    "    # Find pivot index for Hindi insertion\n",
    "    pivot_index = stop_word_indices[-1] + 1  # We split the sentence after the last stop word\n",
    "\n",
    "    english_part = \" \".join(words[:pivot_index])\n",
    "    hindi_part = \" \".join(hindi.split()[pivot_index:])  # Corresponding Hindi split\n",
    "\n",
    "    # Combine the English and Hindi parts\n",
    "    hinglish_sentence = english_part + ' ' + hindi_part\n",
    "    return hinglish_sentence\n",
    "\n",
    "# Apply the function to create the Hinglish sentences\n",
    "df_subtitles['Hinglish'] = df_subtitles.apply(lambda row: create_hinglish_based_on_stopwords(row['English'], row['Hindi']), axis=1)\n",
    "\n",
    "df_subtitles[['English', 'Hindi', 'Hinglish']].head()"
   ]
  },
  {
   "cell_type": "markdown",
   "id": "d4454d67",
   "metadata": {},
   "source": [
    "## Creating Hinglish Sentences"
   ]
  },
  {
   "cell_type": "code",
   "execution_count": 24,
   "id": "a88a7d37",
   "metadata": {},
   "outputs": [
    {
     "data": {
      "application/vnd.jupyter.widget-view+json": {
       "model_id": "a1412e1b5c14464ab9b0279694fbd43d",
       "version_major": 2,
       "version_minor": 0
      },
      "text/plain": [
       "Processing Batches:   0%|          | 0/40 [00:00<?, ?it/s]"
      ]
     },
     "metadata": {},
     "output_type": "display_data"
    },
    {
     "data": {
      "application/vnd.jupyter.widget-view+json": {
       "model_id": "3483b216ecfb40b79b5aef220b5c6ea0",
       "version_major": 2,
       "version_minor": 0
      },
      "text/plain": [
       "Completing Translations:   0%|          | 0/40 [00:00<?, ?it/s]"
      ]
     },
     "metadata": {},
     "output_type": "display_data"
    }
   ],
   "source": [
    "def select_and_translate_to_hindi(text, tokenizer, model):\n",
    "    \"\"\"Selects the last one, two, or three words of a sentence and translates them to Hindi.\"\"\"\n",
    "    words = text.split()\n",
    "    # Randomly choose to take the last one, two, or three words\n",
    "    num_words_to_translate = random.choice([1, 2, 3])\n",
    "    words_to_translate = ' '.join(words[-num_words_to_translate:])\n",
    "    rest_of_sentence = ' '.join(words[:-num_words_to_translate])\n",
    "    \n",
    "    # Translate the selected part to Hindi\n",
    "    if words_to_translate.strip():  # Check if the text is not just empty or whitespace\n",
    "        inputs = tokenizer(words_to_translate, return_tensors=\"pt\", padding=True)\n",
    "        outputs = model.generate(inputs[\"input_ids\"], max_length=512, num_beams=4, early_stopping=True)\n",
    "        translation = tokenizer.decode(outputs[0], skip_special_tokens=True)\n",
    "    else:\n",
    "        translation = \"\"\n",
    "    \n",
    "    # Return the original (minus the last word(s)) and the translated part\n",
    "    return rest_of_sentence, translation\n",
    "\n",
    "def translate_batch_to_hindi(batch, tokenizer, model):\n",
    "    translations = []\n",
    "    for text in batch:\n",
    "        _, translated_text = select_and_translate_to_hindi(text, tokenizer, model)\n",
    "        translations.append(translated_text)\n",
    "    return translations\n",
    "\n",
    "\n",
    "data = pd.read_csv(\"combined_for_translation.csv\")\n",
    "\n",
    "# Load your tokenizer and model\n",
    "tokenizer = AutoTokenizer.from_pretrained(\"Helsinki-NLP/opus-mt-en-hi\")\n",
    "model = AutoModelForSeq2SeqLM.from_pretrained(\"Helsinki-NLP/opus-mt-en-hi\")\n",
    "\n",
    "# Prepare for translation\n",
    "batch_size = 50  # Adjust based on your system\n",
    "translated_texts = []\n",
    "english_parts = []\n",
    "\n",
    "with ThreadPoolExecutor() as executor:\n",
    "    futures = []\n",
    "    for i in tqdm(range(0, len(data['English']), batch_size), desc=\"Processing Batches\"):\n",
    "        batch = data['English'][i:i+batch_size].tolist()\n",
    "        futures.append(executor.submit(translate_batch_to_hindi, batch, tokenizer, model))\n",
    "\n",
    "    for future in tqdm(concurrent.futures.as_completed(futures), total=len(futures), desc=\"Completing Translations\"):\n",
    "        translated_texts.extend(future.result())\n",
    "\n",
    "# Combine English and translated parts to form Hinglish sentences\n",
    "for idx, text in enumerate(data['English']):\n",
    "    num_words_to_keep = random.choice([1, 2, 3])  # Adjust to match the translation selection\n",
    "    words = text.split()\n",
    "    english_part = ' '.join(words[:-num_words_to_keep])\n",
    "    english_parts.append(english_part)\n",
    "\n",
    "data['Hinglish'] = [e + ' ' + h if h else e for e, h in zip(english_parts, translated_texts)]\n",
    "\n",
    "# Save to new CSV\n",
    "data.to_csv('hinglish_sentences.csv', index=False)"
   ]
  },
  {
   "cell_type": "code",
   "execution_count": null,
   "id": "1f0eef38",
   "metadata": {},
   "outputs": [],
   "source": []
  }
 ],
 "metadata": {
  "kernelspec": {
   "display_name": "Python 3 (ipykernel)",
   "language": "python",
   "name": "python3"
  },
  "language_info": {
   "codemirror_mode": {
    "name": "ipython",
    "version": 3
   },
   "file_extension": ".py",
   "mimetype": "text/x-python",
   "name": "python",
   "nbconvert_exporter": "python",
   "pygments_lexer": "ipython3",
   "version": "3.11.4"
  }
 },
 "nbformat": 4,
 "nbformat_minor": 5
}
