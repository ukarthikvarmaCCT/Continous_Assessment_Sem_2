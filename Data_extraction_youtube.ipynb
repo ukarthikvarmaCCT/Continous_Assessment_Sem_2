{
 "cells": [
  {
   "cell_type": "code",
   "execution_count": null,
   "id": "5be266f0",
   "metadata": {},
   "outputs": [],
   "source": [
    "pip install youtube-transcript-api"
   ]
  },
  {
   "cell_type": "code",
   "execution_count": null,
   "id": "b272a2f4",
   "metadata": {},
   "outputs": [],
   "source": [
    "pip install pyspark"
   ]
  },
  {
   "cell_type": "code",
   "execution_count": null,
   "id": "55192587",
   "metadata": {},
   "outputs": [],
   "source": [
    "# Import necessary libraries\n",
    "from pyspark.sql import SparkSession\n",
    "from youtube_transcript_api import YouTubeTranscriptApi\n",
    "from youtube_transcript_api.formatters import SRTFormatter\n",
    "from googleapiclient.discovery import build\n",
    "import os\n",
    "import re\n",
    "\n",
    "# Initialize Spark Session\n",
    "spark = SparkSession.builder \\\n",
    "    .appName(\"YouTubeTranscriptAnalysis\") \\\n",
    "    .getOrCreate()\n",
    "\n",
    "# Initialize the YouTube API client\n",
    "api_key = os.getenv(\"YOUTUBE_API_KEY\")\n",
    "youtube = build('youtube', 'v3', developerKey=api_key)\n",
    "\n",
    "def get_video_ids_with_captions(query, max_results=50):\n",
    "    video_ids = []\n",
    "    search_response = youtube.search().list(\n",
    "        q=query,\n",
    "        part='id',\n",
    "        maxResults=max_results,\n",
    "        type='video',\n",
    "        videoCaption='closedCaption',\n",
    "    ).execute()\n",
    "    for search_result in search_response.get('items', []):\n",
    "        video_ids.append(search_result['id']['videoId'])\n",
    "    return video_ids\n",
    "\n",
    "def sanitize_filename(filename):\n",
    "    valid_filename = re.sub(r'[^\\w\\s-]', '', filename).strip().lower()\n",
    "    return re.sub(r'[-\\s]+', '-', valid_filename)\n",
    "\n",
    "def download_transcript(video_id, output_folder):\n",
    "    try:\n",
    "        transcript = YouTubeTranscriptApi.get_transcript(video_id, languages=['en'])\n",
    "        formatter = SRTFormatter()\n",
    "        srt_transcript = formatter.format_transcript(transcript)\n",
    "        if not os.path.exists(output_folder):\n",
    "            os.makedirs(output_folder)\n",
    "        filename = os.path.join(output_folder, f\"{video_id}.srt\")\n",
    "        with open(filename, \"w\") as text_file:\n",
    "            text_file.write(srt_transcript)\n",
    "        print(f\"Transcript for video {video_id} has been saved in '{output_folder}' folder.\")\n",
    "    except Exception as e:\n",
    "        print(f\"An error occurred with video {video_id}: {e}\")\n",
    "\n",
    "def process_video_ids(directory, output_folder):\n",
    "    for filename in os.listdir(directory):\n",
    "        if filename.endswith(\".txt\"):\n",
    "            filepath = os.path.join(directory, filename)\n",
    "            with open(filepath, 'r') as file:\n",
    "                video_ids = file.read().splitlines()\n",
    "                for video_id in video_ids:\n",
    "                    download_transcript(video_id, output_folder)\n",
    "\n",
    "if __name__ == \"__main__\":\n",
    "    query = \"dhruv rathee\"\n",
    "    video_ids = get_video_ids_with_captions(query)\n",
    "    output_dir = \"video_ids\"\n",
    "    if not os.path.exists(output_dir):\n",
    "        os.makedirs(output_dir)\n",
    "    filename = os.path.join(output_dir, f\"{sanitize_filename(query)}.txt\")\n",
    "    with open(filename, \"w\") as file:\n",
    "        for video_id in video_ids:\n",
    "            file.write(f\"{video_id}\\n\")\n",
    "    print(f\"Saved {len(video_ids)} video IDs to {filename}.\")\n",
    "    \n",
    "    subtitles_output_folder = \"subtitles\"\n",
    "    process_video_ids(output_dir, subtitles_output_folder)\n",
    "\n",
    "    # Stop the Spark session\n",
    "    spark.stop()\n"
   ]
  },
  {
   "cell_type": "code",
   "execution_count": null,
   "id": "c74776a6",
   "metadata": {},
   "outputs": [],
   "source": []
  },
  {
   "cell_type": "code",
   "execution_count": null,
   "id": "70be498c",
   "metadata": {},
   "outputs": [],
   "source": []
  }
 ],
 "metadata": {
  "kernelspec": {
   "display_name": "Python 3 (ipykernel)",
   "language": "python",
   "name": "python3"
  },
  "language_info": {
   "codemirror_mode": {
    "name": "ipython",
    "version": 3
   },
   "file_extension": ".py",
   "mimetype": "text/x-python",
   "name": "python",
   "nbconvert_exporter": "python",
   "pygments_lexer": "ipython3",
   "version": "3.11.4"
  }
 },
 "nbformat": 4,
 "nbformat_minor": 5
}
