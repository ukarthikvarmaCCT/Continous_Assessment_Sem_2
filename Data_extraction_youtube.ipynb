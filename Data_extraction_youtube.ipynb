{
 "cells": [
  {
   "cell_type": "code",
   "execution_count": null,
   "id": "5be266f0",
   "metadata": {},
   "outputs": [],
   "source": [
    "pip install youtube-transcript-api"
   ]
  },
  {
   "cell_type": "code",
   "execution_count": null,
   "id": "87327ba3",
   "metadata": {},
   "outputs": [],
   "source": [
    "pip install --upgrade google-api-python-client"
   ]
  },
  {
   "cell_type": "code",
   "execution_count": null,
   "id": "dcc702c9",
   "metadata": {},
   "outputs": [],
   "source": [
    "from youtube_transcript_api import YouTubeTranscriptApi\n",
    "from youtube_transcript_api.formatters import SRTFormatter\n",
    "from googleapiclient.discovery import build\n",
    "import os\n",
    "import re"
   ]
  },
  {
   "cell_type": "code",
   "execution_count": null,
   "id": "273f0f01",
   "metadata": {},
   "outputs": [],
   "source": [
    "# Initialize the YouTube API client\n",
    "api_key = os.getenv(\"YOUTUBE_API_KEY\")\n",
    "\n",
    "# Initialize the YouTube API client\n",
    "youtube = build('youtube', 'v3', developerKey=api_key)\n",
    "\n",
    "def get_video_ids_with_captions(query, max_results=50):\n",
    "    video_ids = []\n",
    "    # Make a search request to the YouTube API\n",
    "    search_response = youtube.search().list(\n",
    "        q=query,\n",
    "        part='id',\n",
    "        maxResults=max_results,\n",
    "        type='video',\n",
    "        videoCaption='closedCaption',  # Only retrieve videos with captions\n",
    "    ).execute()\n",
    "\n",
    "    # Extract video IDs\n",
    "    for search_result in search_response.get('items', []):\n",
    "        video_ids.append(search_result['id']['videoId'])\n",
    "\n",
    "    return video_ids\n",
    "\n",
    "def sanitize_filename(filename):\n",
    "    \"\"\"Sanitize the filename by removing or replacing invalid characters.\"\"\"\n",
    "    valid_filename = re.sub(r'[^\\w\\s-]', '', filename).strip().lower()\n",
    "    return re.sub(r'[-\\s]+', '-', valid_filename)\n",
    "\n",
    "def main():\n",
    "    query = \"hindi old comedy movies\"  # Update this with your search term\n",
    "    video_ids = get_video_ids_with_captions(query)\n",
    "\n",
    "    # Ensure the directory exists\n",
    "    output_dir = \"video_ids\"\n",
    "    if not os.path.exists(output_dir):\n",
    "        os.makedirs(output_dir)\n",
    "\n",
    "    # Sanitize the query to create a valid filename\n",
    "    filename = os.path.join(output_dir, f\"{sanitize_filename(query)}.txt\")\n",
    "\n",
    "    # Save the video IDs to a file named after the query, inside the specified directory\n",
    "    with open(filename, \"w\") as file:\n",
    "        for video_id in video_ids:\n",
    "            file.write(f\"{video_id}\\n\")\n",
    "\n",
    "    print(f\"Saved {len(video_ids)} video IDs to {filename}.\")\n",
    "\n",
    "if __name__ == \"__main__\":\n",
    "    main()"
   ]
  },
  {
   "cell_type": "code",
   "execution_count": null,
   "id": "9208ad78",
   "metadata": {},
   "outputs": [],
   "source": [
    "def download_transcript(video_id, output_folder):\n",
    "    try:\n",
    "        # Fetching the transcript in Hindi\n",
    "        transcript = YouTubeTranscriptApi.get_transcript(video_id, languages=['hi'])\n",
    "        \n",
    "        # Formatting the transcript as SRT\n",
    "        formatter = SRTFormatter()\n",
    "        srt_transcript = formatter.format_transcript(transcript)\n",
    "\n",
    "        # Ensure the output directory exists\n",
    "        if not os.path.exists(output_folder):\n",
    "            os.makedirs(output_folder)\n",
    "\n",
    "        # Saving the transcript as an SRT file\n",
    "        filename = os.path.join(output_folder, f\"{video_id}.srt\")\n",
    "        with open(filename, \"w\") as text_file:\n",
    "            text_file.write(srt_transcript)\n",
    "            \n",
    "        print(f\"Transcript for video {video_id} has been saved in '{output_folder}' folder.\")\n",
    "    except Exception as e:\n",
    "        print(f\"An error occurred with video {video_id}: {e}\")\n",
    "\n",
    "def process_video_ids(directory, output_folder):\n",
    "    for filename in os.listdir(directory):\n",
    "        if filename.endswith(\".txt\"):\n",
    "            filepath = os.path.join(directory, filename)\n",
    "            with open(filepath, 'r') as file:\n",
    "                video_ids = file.read().splitlines()\n",
    "                for video_id in video_ids:\n",
    "                    download_transcript(video_id, output_folder)\n",
    "\n",
    "if __name__ == \"__main__\":\n",
    "    video_ids_directory = \"video_ids\"\n",
    "    subtitles_output_folder = \"subtitles\"\n",
    "    process_video_ids(video_ids_directory, subtitles_output_folder)"
   ]
  },
  {
   "cell_type": "code",
   "execution_count": null,
   "id": "55192587",
   "metadata": {},
   "outputs": [],
   "source": []
  }
 ],
 "metadata": {
  "kernelspec": {
   "display_name": "Python 3 (ipykernel)",
   "language": "python",
   "name": "python3"
  },
  "language_info": {
   "codemirror_mode": {
    "name": "ipython",
    "version": 3
   },
   "file_extension": ".py",
   "mimetype": "text/x-python",
   "name": "python",
   "nbconvert_exporter": "python",
   "pygments_lexer": "ipython3",
   "version": "3.11.4"
  }
 },
 "nbformat": 4,
 "nbformat_minor": 5
}
